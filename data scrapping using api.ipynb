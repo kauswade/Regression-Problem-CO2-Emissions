{
 "cells": [
  {
   "cell_type": "code",
   "execution_count": 7,
   "id": "b328178d-74fb-4ba3-9207-8a86204f3ff7",
   "metadata": {},
   "outputs": [
    {
     "name": "stdout",
     "output_type": "stream",
     "text": [
      "Data saved to fuel_economy_jones.csv\n"
     ]
    }
   ],
   "source": [
    "import requests\n",
    "import json\n",
    "import csv\n",
    "\n",
    "# API endpoint with search parameter\n",
    "url = \"https://open.canada.ca/data/en/api/action/datastore_search?resource_id=29bcf157-9297-4d6a-9695-dfd816bc32ca&limit=17766\"\n",
    "\n",
    "# Make the API request\n",
    "response = requests.get(url)\n",
    "\n",
    "# Check for successful response\n",
    "if response.status_code == 200:\n",
    "  data = json.loads(response.text)\n",
    "\n",
    "  # Handle potential errors (empty results or API issues)\n",
    "  if data.get('success') is False or not data['result']['records']:\n",
    "    print(\"No data found or API error. Please check the search term or API status.\")\n",
    "    exit()\n",
    "\n",
    "  # Extract field names\n",
    "  fields = [field[\"id\"] for field in data[\"result\"][\"fields\"]]\n",
    "\n",
    "  # Extract data as list of dictionaries\n",
    "  records = data[\"result\"][\"records\"]\n",
    "\n",
    "  # Open CSV file for writing\n",
    "  with open('fuel_economy_jones.csv', 'w', newline='') as csvfile:\n",
    "    writer = csv.DictWriter(csvfile, fieldnames=fields)\n",
    "    # Write header row\n",
    "    writer.writeheader()\n",
    "    # Write data rows\n",
    "    for record in records:\n",
    "      writer.writerow(record)\n",
    "\n",
    "  print(\"Data saved to fuel_economy_jones.csv\")\n",
    "else:\n",
    "  print(f\"API request failed with status code: {response.status_code}\")"
   ]
  }
 ],
 "metadata": {
  "kernelspec": {
   "display_name": "Python 3 (ipykernel)",
   "language": "python",
   "name": "python3"
  },
  "language_info": {
   "codemirror_mode": {
    "name": "ipython",
    "version": 3
   },
   "file_extension": ".py",
   "mimetype": "text/x-python",
   "name": "python",
   "nbconvert_exporter": "python",
   "pygments_lexer": "ipython3",
   "version": "3.9.13"
  }
 },
 "nbformat": 4,
 "nbformat_minor": 5
}
